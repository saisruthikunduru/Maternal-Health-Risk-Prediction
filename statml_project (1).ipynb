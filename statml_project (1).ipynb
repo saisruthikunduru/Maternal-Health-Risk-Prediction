{
  "nbformat": 4,
  "nbformat_minor": 0,
  "metadata": {
    "colab": {
      "provenance": []
    },
    "kernelspec": {
      "name": "python3",
      "display_name": "Python 3"
    },
    "language_info": {
      "name": "python"
    }
  },
  "cells": [
    {
      "cell_type": "code",
      "execution_count": null,
      "metadata": {
        "id": "7MB_9PaSqPUu",
        "colab": {
          "base_uri": "https://localhost:8080/"
        },
        "outputId": "d19d9be6-c2b1-4bca-ee57-26f6949cd844"
      },
      "outputs": [
        {
          "output_type": "stream",
          "name": "stdout",
          "text": [
            "     Age  SystolicBP  DiastolicBP    BS  BodyTemp  HeartRate  RiskLevel\n",
            "0     25         130           80  15.0        98         86  high risk\n",
            "1     35         140           90  13.0        98         70  high risk\n",
            "2     29          90           70   8.0       100         80  high risk\n",
            "3     30         140           85   7.0        98         70  high risk\n",
            "4     35         120           60   6.1        98         76   low risk\n",
            "..   ...         ...          ...   ...       ...        ...        ...\n",
            "144   17         120           80   6.7       102         76   mid risk\n",
            "145   14          90           65   7.0       101         70  high risk\n",
            "146   15          80           60   6.7        98         80   low risk\n",
            "147   15         100           65   6.7        98         76   low risk\n",
            "148   12          95           60   6.7        98         77   low risk\n",
            "\n",
            "[149 rows x 7 columns]\n"
          ]
        }
      ],
      "source": [
        "import pandas as pd\n",
        "data=pd.read_csv('/content/data set statml.csv')\n",
        "print(data)"
      ]
    },
    {
      "cell_type": "code",
      "source": [
        "y=data['RiskLevel']\n",
        "y"
      ],
      "metadata": {
        "id": "dQ6omAqIsfgV",
        "colab": {
          "base_uri": "https://localhost:8080/"
        },
        "outputId": "39eb8446-3236-45b0-de4b-d1419aea54ae"
      },
      "execution_count": null,
      "outputs": [
        {
          "output_type": "execute_result",
          "data": {
            "text/plain": [
              "0      high risk\n",
              "1      high risk\n",
              "2      high risk\n",
              "3      high risk\n",
              "4       low risk\n",
              "         ...    \n",
              "144     mid risk\n",
              "145    high risk\n",
              "146     low risk\n",
              "147     low risk\n",
              "148     low risk\n",
              "Name: RiskLevel, Length: 149, dtype: object"
            ]
          },
          "metadata": {},
          "execution_count": 10
        }
      ]
    },
    {
      "cell_type": "code",
      "source": [
        "y = y.replace({'high risk':2,'low risk':0,'mid risk':1})\n",
        "y"
      ],
      "metadata": {
        "id": "_hrvoLvO2zEa",
        "colab": {
          "base_uri": "https://localhost:8080/",
          "height": 196
        },
        "outputId": "33bd7bf3-18bb-4ff4-f72e-e6c062621811"
      },
      "execution_count": null,
      "outputs": [
        {
          "output_type": "error",
          "ename": "NameError",
          "evalue": "ignored",
          "traceback": [
            "\u001b[0;31m---------------------------------------------------------------------------\u001b[0m",
            "\u001b[0;31mNameError\u001b[0m                                 Traceback (most recent call last)",
            "\u001b[0;32m<ipython-input-1-880549d96aac>\u001b[0m in \u001b[0;36m<cell line: 1>\u001b[0;34m()\u001b[0m\n\u001b[0;32m----> 1\u001b[0;31m \u001b[0my\u001b[0m \u001b[0;34m=\u001b[0m \u001b[0my\u001b[0m\u001b[0;34m.\u001b[0m\u001b[0mreplace\u001b[0m\u001b[0;34m(\u001b[0m\u001b[0;34m{\u001b[0m\u001b[0;34m'high risk'\u001b[0m\u001b[0;34m:\u001b[0m\u001b[0;36m2\u001b[0m\u001b[0;34m,\u001b[0m\u001b[0;34m'low risk'\u001b[0m\u001b[0;34m:\u001b[0m\u001b[0;36m0\u001b[0m\u001b[0;34m,\u001b[0m\u001b[0;34m'mid risk'\u001b[0m\u001b[0;34m:\u001b[0m\u001b[0;36m1\u001b[0m\u001b[0;34m}\u001b[0m\u001b[0;34m)\u001b[0m\u001b[0;34m\u001b[0m\u001b[0;34m\u001b[0m\u001b[0m\n\u001b[0m\u001b[1;32m      2\u001b[0m \u001b[0my\u001b[0m\u001b[0;34m\u001b[0m\u001b[0;34m\u001b[0m\u001b[0m\n",
            "\u001b[0;31mNameError\u001b[0m: name 'y' is not defined"
          ]
        }
      ]
    },
    {
      "cell_type": "code",
      "source": [
        "x=data.drop('RiskLevel',axis=1)\n",
        "x"
      ],
      "metadata": {
        "id": "552-4zLm3X76",
        "colab": {
          "base_uri": "https://localhost:8080/",
          "height": 423
        },
        "outputId": "18460b31-2770-4ba3-d48b-a61d12f7e0f2"
      },
      "execution_count": null,
      "outputs": [
        {
          "output_type": "execute_result",
          "data": {
            "text/plain": [
              "     Age  SystolicBP  DiastolicBP    BS  BodyTemp  HeartRate\n",
              "0     25         130           80  15.0        98         86\n",
              "1     35         140           90  13.0        98         70\n",
              "2     29          90           70   8.0       100         80\n",
              "3     30         140           85   7.0        98         70\n",
              "4     35         120           60   6.1        98         76\n",
              "..   ...         ...          ...   ...       ...        ...\n",
              "144   17         120           80   6.7       102         76\n",
              "145   14          90           65   7.0       101         70\n",
              "146   15          80           60   6.7        98         80\n",
              "147   15         100           65   6.7        98         76\n",
              "148   12          95           60   6.7        98         77\n",
              "\n",
              "[149 rows x 6 columns]"
            ],
            "text/html": [
              "\n",
              "  <div id=\"df-24c2e063-0d44-41c4-9c7d-926fe9afe00a\" class=\"colab-df-container\">\n",
              "    <div>\n",
              "<style scoped>\n",
              "    .dataframe tbody tr th:only-of-type {\n",
              "        vertical-align: middle;\n",
              "    }\n",
              "\n",
              "    .dataframe tbody tr th {\n",
              "        vertical-align: top;\n",
              "    }\n",
              "\n",
              "    .dataframe thead th {\n",
              "        text-align: right;\n",
              "    }\n",
              "</style>\n",
              "<table border=\"1\" class=\"dataframe\">\n",
              "  <thead>\n",
              "    <tr style=\"text-align: right;\">\n",
              "      <th></th>\n",
              "      <th>Age</th>\n",
              "      <th>SystolicBP</th>\n",
              "      <th>DiastolicBP</th>\n",
              "      <th>BS</th>\n",
              "      <th>BodyTemp</th>\n",
              "      <th>HeartRate</th>\n",
              "    </tr>\n",
              "  </thead>\n",
              "  <tbody>\n",
              "    <tr>\n",
              "      <th>0</th>\n",
              "      <td>25</td>\n",
              "      <td>130</td>\n",
              "      <td>80</td>\n",
              "      <td>15.0</td>\n",
              "      <td>98</td>\n",
              "      <td>86</td>\n",
              "    </tr>\n",
              "    <tr>\n",
              "      <th>1</th>\n",
              "      <td>35</td>\n",
              "      <td>140</td>\n",
              "      <td>90</td>\n",
              "      <td>13.0</td>\n",
              "      <td>98</td>\n",
              "      <td>70</td>\n",
              "    </tr>\n",
              "    <tr>\n",
              "      <th>2</th>\n",
              "      <td>29</td>\n",
              "      <td>90</td>\n",
              "      <td>70</td>\n",
              "      <td>8.0</td>\n",
              "      <td>100</td>\n",
              "      <td>80</td>\n",
              "    </tr>\n",
              "    <tr>\n",
              "      <th>3</th>\n",
              "      <td>30</td>\n",
              "      <td>140</td>\n",
              "      <td>85</td>\n",
              "      <td>7.0</td>\n",
              "      <td>98</td>\n",
              "      <td>70</td>\n",
              "    </tr>\n",
              "    <tr>\n",
              "      <th>4</th>\n",
              "      <td>35</td>\n",
              "      <td>120</td>\n",
              "      <td>60</td>\n",
              "      <td>6.1</td>\n",
              "      <td>98</td>\n",
              "      <td>76</td>\n",
              "    </tr>\n",
              "    <tr>\n",
              "      <th>...</th>\n",
              "      <td>...</td>\n",
              "      <td>...</td>\n",
              "      <td>...</td>\n",
              "      <td>...</td>\n",
              "      <td>...</td>\n",
              "      <td>...</td>\n",
              "    </tr>\n",
              "    <tr>\n",
              "      <th>144</th>\n",
              "      <td>17</td>\n",
              "      <td>120</td>\n",
              "      <td>80</td>\n",
              "      <td>6.7</td>\n",
              "      <td>102</td>\n",
              "      <td>76</td>\n",
              "    </tr>\n",
              "    <tr>\n",
              "      <th>145</th>\n",
              "      <td>14</td>\n",
              "      <td>90</td>\n",
              "      <td>65</td>\n",
              "      <td>7.0</td>\n",
              "      <td>101</td>\n",
              "      <td>70</td>\n",
              "    </tr>\n",
              "    <tr>\n",
              "      <th>146</th>\n",
              "      <td>15</td>\n",
              "      <td>80</td>\n",
              "      <td>60</td>\n",
              "      <td>6.7</td>\n",
              "      <td>98</td>\n",
              "      <td>80</td>\n",
              "    </tr>\n",
              "    <tr>\n",
              "      <th>147</th>\n",
              "      <td>15</td>\n",
              "      <td>100</td>\n",
              "      <td>65</td>\n",
              "      <td>6.7</td>\n",
              "      <td>98</td>\n",
              "      <td>76</td>\n",
              "    </tr>\n",
              "    <tr>\n",
              "      <th>148</th>\n",
              "      <td>12</td>\n",
              "      <td>95</td>\n",
              "      <td>60</td>\n",
              "      <td>6.7</td>\n",
              "      <td>98</td>\n",
              "      <td>77</td>\n",
              "    </tr>\n",
              "  </tbody>\n",
              "</table>\n",
              "<p>149 rows × 6 columns</p>\n",
              "</div>\n",
              "    <div class=\"colab-df-buttons\">\n",
              "\n",
              "  <div class=\"colab-df-container\">\n",
              "    <button class=\"colab-df-convert\" onclick=\"convertToInteractive('df-24c2e063-0d44-41c4-9c7d-926fe9afe00a')\"\n",
              "            title=\"Convert this dataframe to an interactive table.\"\n",
              "            style=\"display:none;\">\n",
              "\n",
              "  <svg xmlns=\"http://www.w3.org/2000/svg\" height=\"24px\" viewBox=\"0 -960 960 960\">\n",
              "    <path d=\"M120-120v-720h720v720H120Zm60-500h600v-160H180v160Zm220 220h160v-160H400v160Zm0 220h160v-160H400v160ZM180-400h160v-160H180v160Zm440 0h160v-160H620v160ZM180-180h160v-160H180v160Zm440 0h160v-160H620v160Z\"/>\n",
              "  </svg>\n",
              "    </button>\n",
              "\n",
              "  <style>\n",
              "    .colab-df-container {\n",
              "      display:flex;\n",
              "      gap: 12px;\n",
              "    }\n",
              "\n",
              "    .colab-df-convert {\n",
              "      background-color: #E8F0FE;\n",
              "      border: none;\n",
              "      border-radius: 50%;\n",
              "      cursor: pointer;\n",
              "      display: none;\n",
              "      fill: #1967D2;\n",
              "      height: 32px;\n",
              "      padding: 0 0 0 0;\n",
              "      width: 32px;\n",
              "    }\n",
              "\n",
              "    .colab-df-convert:hover {\n",
              "      background-color: #E2EBFA;\n",
              "      box-shadow: 0px 1px 2px rgba(60, 64, 67, 0.3), 0px 1px 3px 1px rgba(60, 64, 67, 0.15);\n",
              "      fill: #174EA6;\n",
              "    }\n",
              "\n",
              "    .colab-df-buttons div {\n",
              "      margin-bottom: 4px;\n",
              "    }\n",
              "\n",
              "    [theme=dark] .colab-df-convert {\n",
              "      background-color: #3B4455;\n",
              "      fill: #D2E3FC;\n",
              "    }\n",
              "\n",
              "    [theme=dark] .colab-df-convert:hover {\n",
              "      background-color: #434B5C;\n",
              "      box-shadow: 0px 1px 3px 1px rgba(0, 0, 0, 0.15);\n",
              "      filter: drop-shadow(0px 1px 2px rgba(0, 0, 0, 0.3));\n",
              "      fill: #FFFFFF;\n",
              "    }\n",
              "  </style>\n",
              "\n",
              "    <script>\n",
              "      const buttonEl =\n",
              "        document.querySelector('#df-24c2e063-0d44-41c4-9c7d-926fe9afe00a button.colab-df-convert');\n",
              "      buttonEl.style.display =\n",
              "        google.colab.kernel.accessAllowed ? 'block' : 'none';\n",
              "\n",
              "      async function convertToInteractive(key) {\n",
              "        const element = document.querySelector('#df-24c2e063-0d44-41c4-9c7d-926fe9afe00a');\n",
              "        const dataTable =\n",
              "          await google.colab.kernel.invokeFunction('convertToInteractive',\n",
              "                                                    [key], {});\n",
              "        if (!dataTable) return;\n",
              "\n",
              "        const docLinkHtml = 'Like what you see? Visit the ' +\n",
              "          '<a target=\"_blank\" href=https://colab.research.google.com/notebooks/data_table.ipynb>data table notebook</a>'\n",
              "          + ' to learn more about interactive tables.';\n",
              "        element.innerHTML = '';\n",
              "        dataTable['output_type'] = 'display_data';\n",
              "        await google.colab.output.renderOutput(dataTable, element);\n",
              "        const docLink = document.createElement('div');\n",
              "        docLink.innerHTML = docLinkHtml;\n",
              "        element.appendChild(docLink);\n",
              "      }\n",
              "    </script>\n",
              "  </div>\n",
              "\n",
              "\n",
              "<div id=\"df-0b607bdf-f996-49e0-b428-ad130c72889f\">\n",
              "  <button class=\"colab-df-quickchart\" onclick=\"quickchart('df-0b607bdf-f996-49e0-b428-ad130c72889f')\"\n",
              "            title=\"Suggest charts.\"\n",
              "            style=\"display:none;\">\n",
              "\n",
              "<svg xmlns=\"http://www.w3.org/2000/svg\" height=\"24px\"viewBox=\"0 0 24 24\"\n",
              "     width=\"24px\">\n",
              "    <g>\n",
              "        <path d=\"M19 3H5c-1.1 0-2 .9-2 2v14c0 1.1.9 2 2 2h14c1.1 0 2-.9 2-2V5c0-1.1-.9-2-2-2zM9 17H7v-7h2v7zm4 0h-2V7h2v10zm4 0h-2v-4h2v4z\"/>\n",
              "    </g>\n",
              "</svg>\n",
              "  </button>\n",
              "\n",
              "<style>\n",
              "  .colab-df-quickchart {\n",
              "      --bg-color: #E8F0FE;\n",
              "      --fill-color: #1967D2;\n",
              "      --hover-bg-color: #E2EBFA;\n",
              "      --hover-fill-color: #174EA6;\n",
              "      --disabled-fill-color: #AAA;\n",
              "      --disabled-bg-color: #DDD;\n",
              "  }\n",
              "\n",
              "  [theme=dark] .colab-df-quickchart {\n",
              "      --bg-color: #3B4455;\n",
              "      --fill-color: #D2E3FC;\n",
              "      --hover-bg-color: #434B5C;\n",
              "      --hover-fill-color: #FFFFFF;\n",
              "      --disabled-bg-color: #3B4455;\n",
              "      --disabled-fill-color: #666;\n",
              "  }\n",
              "\n",
              "  .colab-df-quickchart {\n",
              "    background-color: var(--bg-color);\n",
              "    border: none;\n",
              "    border-radius: 50%;\n",
              "    cursor: pointer;\n",
              "    display: none;\n",
              "    fill: var(--fill-color);\n",
              "    height: 32px;\n",
              "    padding: 0;\n",
              "    width: 32px;\n",
              "  }\n",
              "\n",
              "  .colab-df-quickchart:hover {\n",
              "    background-color: var(--hover-bg-color);\n",
              "    box-shadow: 0 1px 2px rgba(60, 64, 67, 0.3), 0 1px 3px 1px rgba(60, 64, 67, 0.15);\n",
              "    fill: var(--button-hover-fill-color);\n",
              "  }\n",
              "\n",
              "  .colab-df-quickchart-complete:disabled,\n",
              "  .colab-df-quickchart-complete:disabled:hover {\n",
              "    background-color: var(--disabled-bg-color);\n",
              "    fill: var(--disabled-fill-color);\n",
              "    box-shadow: none;\n",
              "  }\n",
              "\n",
              "  .colab-df-spinner {\n",
              "    border: 2px solid var(--fill-color);\n",
              "    border-color: transparent;\n",
              "    border-bottom-color: var(--fill-color);\n",
              "    animation:\n",
              "      spin 1s steps(1) infinite;\n",
              "  }\n",
              "\n",
              "  @keyframes spin {\n",
              "    0% {\n",
              "      border-color: transparent;\n",
              "      border-bottom-color: var(--fill-color);\n",
              "      border-left-color: var(--fill-color);\n",
              "    }\n",
              "    20% {\n",
              "      border-color: transparent;\n",
              "      border-left-color: var(--fill-color);\n",
              "      border-top-color: var(--fill-color);\n",
              "    }\n",
              "    30% {\n",
              "      border-color: transparent;\n",
              "      border-left-color: var(--fill-color);\n",
              "      border-top-color: var(--fill-color);\n",
              "      border-right-color: var(--fill-color);\n",
              "    }\n",
              "    40% {\n",
              "      border-color: transparent;\n",
              "      border-right-color: var(--fill-color);\n",
              "      border-top-color: var(--fill-color);\n",
              "    }\n",
              "    60% {\n",
              "      border-color: transparent;\n",
              "      border-right-color: var(--fill-color);\n",
              "    }\n",
              "    80% {\n",
              "      border-color: transparent;\n",
              "      border-right-color: var(--fill-color);\n",
              "      border-bottom-color: var(--fill-color);\n",
              "    }\n",
              "    90% {\n",
              "      border-color: transparent;\n",
              "      border-bottom-color: var(--fill-color);\n",
              "    }\n",
              "  }\n",
              "</style>\n",
              "\n",
              "  <script>\n",
              "    async function quickchart(key) {\n",
              "      const quickchartButtonEl =\n",
              "        document.querySelector('#' + key + ' button');\n",
              "      quickchartButtonEl.disabled = true;  // To prevent multiple clicks.\n",
              "      quickchartButtonEl.classList.add('colab-df-spinner');\n",
              "      try {\n",
              "        const charts = await google.colab.kernel.invokeFunction(\n",
              "            'suggestCharts', [key], {});\n",
              "      } catch (error) {\n",
              "        console.error('Error during call to suggestCharts:', error);\n",
              "      }\n",
              "      quickchartButtonEl.classList.remove('colab-df-spinner');\n",
              "      quickchartButtonEl.classList.add('colab-df-quickchart-complete');\n",
              "    }\n",
              "    (() => {\n",
              "      let quickchartButtonEl =\n",
              "        document.querySelector('#df-0b607bdf-f996-49e0-b428-ad130c72889f button');\n",
              "      quickchartButtonEl.style.display =\n",
              "        google.colab.kernel.accessAllowed ? 'block' : 'none';\n",
              "    })();\n",
              "  </script>\n",
              "</div>\n",
              "    </div>\n",
              "  </div>\n"
            ]
          },
          "metadata": {},
          "execution_count": 12
        }
      ]
    },
    {
      "cell_type": "code",
      "source": [
        "import pandas as pd\n",
        "data=pd.read_csv('/content/data set statml.csv')\n",
        "print(data)\n",
        "print(data.head())\n",
        "print(data.columns)\n",
        "target_variable = 'RiskLevel'\n",
        "features = data.columns[data.columns != target_variable]\n",
        "print('Target Variable:', target_variable)\n",
        "print('Features:',features)"
      ],
      "metadata": {
        "id": "_2R_7BET_f48",
        "colab": {
          "base_uri": "https://localhost:8080/"
        },
        "outputId": "7227eef9-2611-4569-c1c1-c6a3205de3e6"
      },
      "execution_count": null,
      "outputs": [
        {
          "output_type": "stream",
          "name": "stdout",
          "text": [
            "     Age  SystolicBP  DiastolicBP    BS  BodyTemp  HeartRate  RiskLevel\n",
            "0     25         130           80  15.0        98         86  high risk\n",
            "1     35         140           90  13.0        98         70  high risk\n",
            "2     29          90           70   8.0       100         80  high risk\n",
            "3     30         140           85   7.0        98         70  high risk\n",
            "4     35         120           60   6.1        98         76   low risk\n",
            "..   ...         ...          ...   ...       ...        ...        ...\n",
            "144   17         120           80   6.7       102         76   mid risk\n",
            "145   14          90           65   7.0       101         70  high risk\n",
            "146   15          80           60   6.7        98         80   low risk\n",
            "147   15         100           65   6.7        98         76   low risk\n",
            "148   12          95           60   6.7        98         77   low risk\n",
            "\n",
            "[149 rows x 7 columns]\n",
            "   Age  SystolicBP  DiastolicBP    BS  BodyTemp  HeartRate  RiskLevel\n",
            "0   25         130           80  15.0        98         86  high risk\n",
            "1   35         140           90  13.0        98         70  high risk\n",
            "2   29          90           70   8.0       100         80  high risk\n",
            "3   30         140           85   7.0        98         70  high risk\n",
            "4   35         120           60   6.1        98         76   low risk\n",
            "Index(['Age', 'SystolicBP', 'DiastolicBP', 'BS', 'BodyTemp', 'HeartRate',\n",
            "       'RiskLevel'],\n",
            "      dtype='object')\n",
            "Target Variable: RiskLevel\n",
            "Features: Index(['Age', 'SystolicBP', 'DiastolicBP', 'BS', 'BodyTemp', 'HeartRate'], dtype='object')\n"
          ]
        }
      ]
    },
    {
      "cell_type": "markdown",
      "source": [],
      "metadata": {
        "id": "zA-lzze66qyX"
      }
    },
    {
      "cell_type": "code",
      "source": [
        "from sklearn.preprocessing import MinMaxScaler\n",
        "scaler=MinMaxScaler(feature_range=(0,1))\n",
        "xtrain_norm=scaler.fit_transform(x)\n",
        "xtrain_norm"
      ],
      "metadata": {
        "id": "2bZBBs-_4Fpp",
        "colab": {
          "base_uri": "https://localhost:8080/"
        },
        "outputId": "cfa511df-acde-4e0a-c119-c62127044385"
      },
      "execution_count": null,
      "outputs": [
        {
          "output_type": "execute_result",
          "data": {
            "text/plain": [
              "array([[0.28301887, 0.66666667, 0.60784314, 0.69230769, 0.        ,\n",
              "        0.86666667],\n",
              "       [0.47169811, 0.77777778, 0.80392157, 0.53846154, 0.        ,\n",
              "        0.33333333],\n",
              "       [0.35849057, 0.22222222, 0.41176471, 0.15384615, 0.5       ,\n",
              "        0.66666667],\n",
              "       [0.37735849, 0.77777778, 0.70588235, 0.07692308, 0.        ,\n",
              "        0.33333333],\n",
              "       [0.47169811, 0.55555556, 0.21568627, 0.00769231, 0.        ,\n",
              "        0.53333333],\n",
              "       [0.24528302, 0.77777778, 0.60784314, 0.07769231, 0.        ,\n",
              "        0.33333333],\n",
              "       [0.24528302, 0.66666667, 0.41176471, 0.07769231, 0.        ,\n",
              "        0.6       ],\n",
              "       [0.47169811, 0.16666667, 0.21568627, 0.38461538, 1.        ,\n",
              "        0.86666667],\n",
              "       [0.41509434, 0.55555556, 0.80392157, 0.06923077, 0.        ,\n",
              "        0.33333333],\n",
              "       [0.60377358, 0.66666667, 0.60784314, 0.92307692, 0.        ,\n",
              "        0.33333333],\n",
              "       [0.24528302, 0.22222222, 0.21568627, 0.07769231, 0.        ,\n",
              "        0.53333333],\n",
              "       [0.16981132, 0.55555556, 0.60784314, 0.07692308, 0.        ,\n",
              "        0.33333333],\n",
              "       [0.28301887, 0.44444444, 0.78431373, 0.07769231, 0.        ,\n",
              "        0.56666667],\n",
              "       [0.18867925, 0.55555556, 0.50980392, 0.07769231, 0.5       ,\n",
              "        0.33333333],\n",
              "       [0.71698113, 0.55555556, 0.60784314, 0.38461538, 0.        ,\n",
              "        0.93333333],\n",
              "       [0.09433962, 0.55555556, 0.60784314, 0.07769231, 0.        ,\n",
              "        0.33333333],\n",
              "       [0.75471698, 0.77777778, 0.80392157, 0.69230769, 0.        ,\n",
              "        1.        ],\n",
              "       [0.28301887, 0.77777778, 1.        , 0.07769231, 0.        ,\n",
              "        0.66666667],\n",
              "       [0.37735849, 0.55555556, 0.60784314, 0.06923077, 0.75      ,\n",
              "        0.53333333],\n",
              "       [0.        , 0.        , 0.01960784, 0.06923077, 0.        ,\n",
              "        0.33333333],\n",
              "       [0.56603774, 0.77777778, 1.        , 0.92307692, 0.        ,\n",
              "        1.        ],\n",
              "       [0.75471698, 0.77777778, 0.60784314, 0.05384615, 0.        ,\n",
              "        0.33333333],\n",
              "       [0.20754717, 0.22222222, 0.31372549, 0.11538462, 0.        ,\n",
              "        0.53333333],\n",
              "       [0.1509434 , 0.22222222, 0.21568627, 0.11538462, 0.        ,\n",
              "        0.33333333],\n",
              "       [0.20754717, 0.55555556, 0.60784314, 0.11538462, 0.        ,\n",
              "        0.53333333],\n",
              "       [0.11320755, 0.33333333, 0.41176471, 0.09230769, 0.        ,\n",
              "        0.66666667],\n",
              "       [0.16981132, 0.55555556, 0.50980392, 0.09230769, 0.        ,\n",
              "        0.2       ],\n",
              "       [0.22641509, 0.33333333, 0.31372549, 0.09230769, 0.        ,\n",
              "        0.33333333],\n",
              "       [0.73584906, 0.55555556, 0.80392157, 0.09230769, 0.        ,\n",
              "        0.56666667],\n",
              "       [0.33962264, 0.22222222, 0.21568627, 0.09230769, 0.        ,\n",
              "        0.73333333],\n",
              "       [0.18867925, 0.33333333, 0.80392157, 0.08461538, 0.        ,\n",
              "        0.93333333],\n",
              "       [0.24528302, 0.33333333, 0.70588235, 0.08461538, 0.        ,\n",
              "        0.2       ],\n",
              "       [0.22641509, 0.55555556, 0.80392157, 0.08461538, 0.        ,\n",
              "        0.73333333],\n",
              "       [0.20754717, 0.55555556, 0.60784314, 0.08461538, 0.        ,\n",
              "        0.56666667],\n",
              "       [0.20754717, 0.05555556, 0.01960784, 0.00769231, 0.        ,\n",
              "        0.33333333],\n",
              "       [0.03773585, 0.27777778, 0.21568627, 0.00769231, 1.        ,\n",
              "        0.        ],\n",
              "       [0.94339623, 0.55555556, 0.60784314, 0.00769231, 0.        ,\n",
              "        0.5       ],\n",
              "       [0.8490566 , 0.33333333, 0.31372549, 0.00769231, 0.        ,\n",
              "        0.2       ],\n",
              "       [0.66037736, 0.55555556, 0.90196078, 0.00769231, 0.        ,\n",
              "        0.2       ],\n",
              "       [0.47169811, 0.33333333, 0.41176471, 0.00769231, 0.        ,\n",
              "        0.2       ],\n",
              "       [0.22641509, 0.55555556, 0.70588235, 0.00769231, 0.        ,\n",
              "        0.93333333],\n",
              "       [0.24528302, 0.55555556, 0.80392157, 0.00769231, 0.        ,\n",
              "        0.        ],\n",
              "       [0.28301887, 0.22222222, 0.41176471, 0.00769231, 0.        ,\n",
              "        0.66666667],\n",
              "       [0.37735849, 0.55555556, 0.60784314, 0.00769231, 0.        ,\n",
              "        0.33333333],\n",
              "       [0.24528302, 0.55555556, 0.80392157, 0.00769231, 0.        ,\n",
              "        0.33333333],\n",
              "       [0.41509434, 0.55555556, 0.80392157, 0.11538462, 0.        ,\n",
              "        0.33333333],\n",
              "       [0.60377358, 0.55555556, 0.60784314, 0.11538462, 0.        ,\n",
              "        0.33333333],\n",
              "       [0.24528302, 0.22222222, 0.21568627, 0.11538462, 0.        ,\n",
              "        0.53333333],\n",
              "       [0.09433962, 0.06666667, 0.        , 0.11538462, 0.        ,\n",
              "        0.56666667],\n",
              "       [0.09433962, 0.55555556, 0.60784314, 0.07692308, 0.        ,\n",
              "        0.33333333],\n",
              "       [0.28301887, 0.55555556, 0.60784314, 0.07692308, 0.        ,\n",
              "        0.2       ],\n",
              "       [0.22641509, 0.33333333, 0.31372549, 0.07692308, 0.        ,\n",
              "        0.66666667],\n",
              "       [0.47169811, 0.33333333, 0.41176471, 0.07692308, 0.        ,\n",
              "        0.        ],\n",
              "       [0.16981132, 0.55555556, 0.70588235, 0.07692308, 0.        ,\n",
              "        0.        ],\n",
              "       [0.94339623, 0.22222222, 0.31372549, 0.07692308, 0.        ,\n",
              "        0.56666667],\n",
              "       [0.24528302, 0.55555556, 0.80392157, 0.05384615, 0.        ,\n",
              "        0.33333333],\n",
              "       [0.41509434, 0.55555556, 0.80392157, 0.03076923, 0.        ,\n",
              "        0.33333333],\n",
              "       [0.60377358, 0.55555556, 0.60784314, 0.03076923, 0.        ,\n",
              "        0.33333333],\n",
              "       [0.24528302, 0.22222222, 0.21568627, 0.03076923, 0.        ,\n",
              "        0.53333333],\n",
              "       [0.09433962, 0.06666667, 0.        , 0.03076923, 0.        ,\n",
              "        0.56666667],\n",
              "       [0.09433962, 0.55555556, 0.60784314, 0.09230769, 0.        ,\n",
              "        0.33333333],\n",
              "       [0.09433962, 0.11111111, 0.21568627, 0.07692308, 0.        ,\n",
              "        0.66666667],\n",
              "       [0.03773585, 0.27777778, 0.21568627, 0.09230769, 0.        ,\n",
              "        0.56666667],\n",
              "       [0.35849057, 0.22222222, 0.41176471, 0.05384615, 0.        ,\n",
              "        0.66666667],\n",
              "       [0.39622642, 0.55555556, 0.21568627, 0.00769231, 0.        ,\n",
              "        0.53333333],\n",
              "       [0.35849057, 0.66666667, 0.41176471, 0.05384615, 0.        ,\n",
              "        0.6       ],\n",
              "       [0.13207547, 0.16666667, 0.21568627, 0.23076923, 1.        ,\n",
              "        0.86666667],\n",
              "       [0.16981132, 0.55555556, 0.60784314, 0.07692308, 0.        ,\n",
              "        0.33333333],\n",
              "       [0.18867925, 0.44444444, 0.21568627, 0.07692308, 0.5       ,\n",
              "        0.33333333],\n",
              "       [0.41509434, 0.55555556, 0.31372549, 0.        , 0.75      ,\n",
              "        0.53333333],\n",
              "       [0.30188679, 0.16666667, 0.21568627, 0.        , 0.75      ,\n",
              "        0.86666667],\n",
              "       [0.35849057, 0.66666667, 0.41176471, 0.13076923, 0.        ,\n",
              "        0.6       ],\n",
              "       [0.16981132, 0.55555556, 0.60784314, 0.07692308, 0.        ,\n",
              "        0.33333333],\n",
              "       [0.83018868, 0.66666667, 0.41176471, 0.46153846, 0.        ,\n",
              "        0.23333333],\n",
              "       [0.64150943, 0.55555556, 0.80392157, 0.76923077, 0.        ,\n",
              "        0.66666667],\n",
              "       [0.24528302, 0.66666667, 0.41176471, 0.06923077, 0.        ,\n",
              "        0.33333333],\n",
              "       [0.22641509, 0.16666667, 0.21568627, 0.06923077, 0.        ,\n",
              "        0.53333333],\n",
              "       [0.8490566 , 0.55555556, 0.80392157, 0.46153846, 0.        ,\n",
              "        0.33333333],\n",
              "       [0.47169811, 0.55555556, 0.60784314, 0.06923077, 0.        ,\n",
              "        0.6       ],\n",
              "       [0.20754717, 0.22222222, 0.21568627, 0.06923077, 0.        ,\n",
              "        0.86666667],\n",
              "       [0.11320755, 0.22222222, 0.31372549, 0.06923077, 0.        ,\n",
              "        0.53333333],\n",
              "       [0.43396226, 0.5       , 0.31372549, 0.07692308, 0.        ,\n",
              "        0.33333333],\n",
              "       [0.03773585, 0.27777778, 0.21568627, 0.06923077, 0.        ,\n",
              "        0.16666667],\n",
              "       [0.33962264, 0.55555556, 0.80392157, 0.06923077, 0.        ,\n",
              "        0.33333333],\n",
              "       [0.20754717, 0.22222222, 0.31372549, 0.06923077, 0.        ,\n",
              "        0.53333333],\n",
              "       [0.1509434 , 0.22222222, 0.21568627, 0.06923077, 0.        ,\n",
              "        0.33333333],\n",
              "       [0.20754717, 0.55555556, 0.60784314, 0.06923077, 0.        ,\n",
              "        0.53333333],\n",
              "       [0.11320755, 0.33333333, 0.41176471, 0.06923077, 0.        ,\n",
              "        0.66666667],\n",
              "       [0.16981132, 0.55555556, 0.50980392, 0.06923077, 0.        ,\n",
              "        0.2       ],\n",
              "       [0.24528302, 0.33333333, 0.70588235, 0.06923077, 0.        ,\n",
              "        0.2       ],\n",
              "       [0.22641509, 0.55555556, 0.80392157, 0.13846154, 0.        ,\n",
              "        0.73333333],\n",
              "       [0.94339623, 0.55555556, 0.70588235, 0.69230769, 0.        ,\n",
              "        0.        ],\n",
              "       [0.05660377, 0.22222222, 0.31372549, 0.13846154, 0.75      ,\n",
              "        0.66666667],\n",
              "       [0.24528302, 0.55555556, 0.80392157, 0.13846154, 0.        ,\n",
              "        0.        ],\n",
              "       [0.33962264, 0.5       , 0.21568627, 0.13846154, 0.75      ,\n",
              "        0.86666667],\n",
              "       [0.75471698, 0.55555556, 0.60784314, 0.13846154, 0.        ,\n",
              "        0.33333333],\n",
              "       [0.35849057, 0.66666667, 0.41176471, 0.13846154, 0.        ,\n",
              "        0.6       ],\n",
              "       [0.16981132, 0.55555556, 0.60784314, 0.07692308, 0.        ,\n",
              "        0.33333333],\n",
              "       [0.16981132, 0.55555556, 0.70588235, 0.13846154, 0.        ,\n",
              "        0.        ],\n",
              "       [0.94339623, 0.22222222, 0.31372549, 0.06153846, 0.        ,\n",
              "        0.56666667],\n",
              "       [0.8490566 , 0.55555556, 0.80392157, 0.06153846, 0.        ,\n",
              "        0.2       ],\n",
              "       [0.28301887, 0.55555556, 0.60784314, 0.06153846, 0.        ,\n",
              "        0.2       ],\n",
              "       [0.71698113, 0.77777778, 0.80392157, 0.69230769, 0.        ,\n",
              "        1.        ],\n",
              "       [0.28301887, 0.77777778, 1.        , 0.06153846, 0.        ,\n",
              "        0.66666667],\n",
              "       [0.24528302, 0.77777778, 0.80392157, 0.06153846, 0.        ,\n",
              "        0.33333333],\n",
              "       [0.45283019, 0.16666667, 0.21568627, 0.38461538, 1.        ,\n",
              "        0.86666667],\n",
              "       [0.75471698, 0.77777778, 0.80392157, 0.69230769, 0.        ,\n",
              "        1.        ],\n",
              "       [0.28301887, 0.77777778, 1.        , 0.06153846, 0.        ,\n",
              "        0.66666667],\n",
              "       [0.60377358, 0.77777778, 1.        , 0.92307692, 0.        ,\n",
              "        1.        ],\n",
              "       [0.41509434, 0.77777778, 1.        , 0.14615385, 0.        ,\n",
              "        0.6       ],\n",
              "       [0.75471698, 0.77777778, 0.90196078, 0.84615385, 0.        ,\n",
              "        0.        ],\n",
              "       [0.52830189, 0.72222222, 0.21568627, 0.14615385, 0.75      ,\n",
              "        0.86666667],\n",
              "       [0.54716981, 0.22222222, 0.41176471, 0.23076923, 0.        ,\n",
              "        0.66666667],\n",
              "       [0.37735849, 0.77777778, 1.        , 0.69230769, 0.        ,\n",
              "        0.33333333],\n",
              "       [1.        , 0.77777778, 0.80392157, 0.69230769, 0.        ,\n",
              "        1.        ],\n",
              "       [0.28301887, 0.77777778, 1.        , 0.14615385, 0.        ,\n",
              "        0.66666667],\n",
              "       [0.37735849, 0.55555556, 0.60784314, 0.14615385, 0.75      ,\n",
              "        0.53333333],\n",
              "       [0.8490566 , 0.77777778, 1.        , 0.92307692, 0.        ,\n",
              "        1.        ],\n",
              "       [0.41509434, 0.77777778, 1.        , 0.14615385, 0.        ,\n",
              "        0.6       ],\n",
              "       [0.37735849, 0.77777778, 1.        , 0.69230769, 0.        ,\n",
              "        0.33333333],\n",
              "       [0.71698113, 0.55555556, 0.60784314, 0.38461538, 0.        ,\n",
              "        0.93333333],\n",
              "       [0.73584906, 0.77777778, 0.80392157, 0.69230769, 0.        ,\n",
              "        1.        ],\n",
              "       [0.28301887, 0.77777778, 1.        , 0.11538462, 0.        ,\n",
              "        0.66666667],\n",
              "       [0.56603774, 1.        , 1.        , 1.        , 0.        ,\n",
              "        0.56666667],\n",
              "       [0.41509434, 0.77777778, 0.80392157, 0.92307692, 0.        ,\n",
              "        0.93333333],\n",
              "       [0.47169811, 0.77777778, 1.        , 0.11538462, 0.        ,\n",
              "        0.2       ],\n",
              "       [0.83018868, 0.77777778, 1.        , 0.69230769, 0.        ,\n",
              "        0.2       ],\n",
              "       [0.8490566 , 0.77777778, 0.90196078, 1.        , 0.        ,\n",
              "        0.56666667],\n",
              "       [0.35849057, 0.55555556, 0.41176471, 0.23076923, 0.        ,\n",
              "        0.66666667],\n",
              "       [0.71698113, 0.55555556, 0.60784314, 0.38461538, 0.        ,\n",
              "        0.93333333],\n",
              "       [0.56603774, 1.        , 1.        , 1.        , 0.        ,\n",
              "        0.56666667],\n",
              "       [0.41509434, 0.77777778, 0.80392157, 0.92307692, 0.        ,\n",
              "        0.93333333],\n",
              "       [0.47169811, 0.77777778, 1.        , 0.11538462, 0.        ,\n",
              "        0.2       ],\n",
              "       [0.83018868, 0.77777778, 1.        , 0.69230769, 0.        ,\n",
              "        0.2       ],\n",
              "       [0.56603774, 0.55555556, 0.90196078, 0.38461538, 0.        ,\n",
              "        0.66666667],\n",
              "       [0.22641509, 0.22222222, 0.21568627, 0.11538462, 1.        ,\n",
              "        0.        ],\n",
              "       [0.56603774, 0.55555556, 0.70588235, 0.69230769, 0.        ,\n",
              "        0.        ],\n",
              "       [0.8490566 , 0.77777778, 0.90196078, 1.        , 0.        ,\n",
              "        0.56666667],\n",
              "       [0.75471698, 0.66666667, 1.        , 0.76923077, 0.        ,\n",
              "        0.5       ],\n",
              "       [0.1509434 , 0.55555556, 0.60784314, 0.06923077, 1.        ,\n",
              "        0.53333333],\n",
              "       [0.41509434, 0.77777778, 1.        , 0.06923077, 0.        ,\n",
              "        0.6       ],\n",
              "       [0.13207547, 0.22222222, 0.21568627, 0.06923077, 0.75      ,\n",
              "        0.53333333],\n",
              "       [0.13207547, 0.22222222, 0.2745098 , 0.06923077, 0.75      ,\n",
              "        0.33333333],\n",
              "       [0.28301887, 0.55555556, 0.80392157, 0.05384615, 0.75      ,\n",
              "        0.66666667],\n",
              "       [0.13207547, 0.55555556, 0.60784314, 0.05384615, 1.        ,\n",
              "        0.53333333],\n",
              "       [0.0754717 , 0.22222222, 0.31372549, 0.07692308, 0.75      ,\n",
              "        0.33333333],\n",
              "       [0.09433962, 0.11111111, 0.21568627, 0.05384615, 0.        ,\n",
              "        0.66666667],\n",
              "       [0.09433962, 0.33333333, 0.31372549, 0.05384615, 0.        ,\n",
              "        0.53333333],\n",
              "       [0.03773585, 0.27777778, 0.21568627, 0.05384615, 0.        ,\n",
              "        0.56666667]])"
            ]
          },
          "metadata": {},
          "execution_count": 14
        }
      ]
    },
    {
      "cell_type": "code",
      "source": [
        "from sklearn.model_selection import train_test_split"
      ],
      "metadata": {
        "id": "uzU-BZM94Ym7"
      },
      "execution_count": null,
      "outputs": []
    },
    {
      "cell_type": "code",
      "source": [
        "x_train,x_test,y_train,y_test=train_test_split(xtrain_norm,y,test_size=0.3)"
      ],
      "metadata": {
        "id": "gOdofwOO4Z7q"
      },
      "execution_count": null,
      "outputs": []
    },
    {
      "cell_type": "code",
      "source": [
        "x_train"
      ],
      "metadata": {
        "id": "4APIDGK84fup",
        "colab": {
          "base_uri": "https://localhost:8080/"
        },
        "outputId": "e188d472-6774-4abd-a54e-fe6d5222208a"
      },
      "execution_count": null,
      "outputs": [
        {
          "output_type": "execute_result",
          "data": {
            "text/plain": [
              "array([[0.37735849, 0.55555556, 0.60784314, 0.00769231, 0.        ,\n",
              "        0.33333333],\n",
              "       [0.09433962, 0.55555556, 0.60784314, 0.09230769, 0.        ,\n",
              "        0.33333333],\n",
              "       [0.35849057, 0.55555556, 0.41176471, 0.23076923, 0.        ,\n",
              "        0.66666667],\n",
              "       [0.94339623, 0.22222222, 0.31372549, 0.06153846, 0.        ,\n",
              "        0.56666667],\n",
              "       [0.8490566 , 0.55555556, 0.80392157, 0.46153846, 0.        ,\n",
              "        0.33333333],\n",
              "       [0.33962264, 0.5       , 0.21568627, 0.13846154, 0.75      ,\n",
              "        0.86666667],\n",
              "       [0.56603774, 0.77777778, 1.        , 0.92307692, 0.        ,\n",
              "        1.        ],\n",
              "       [0.16981132, 0.55555556, 0.60784314, 0.07692308, 0.        ,\n",
              "        0.33333333],\n",
              "       [0.41509434, 0.77777778, 1.        , 0.14615385, 0.        ,\n",
              "        0.6       ],\n",
              "       [0.18867925, 0.44444444, 0.21568627, 0.07692308, 0.5       ,\n",
              "        0.33333333],\n",
              "       [0.47169811, 0.55555556, 0.60784314, 0.06923077, 0.        ,\n",
              "        0.6       ],\n",
              "       [0.56603774, 1.        , 1.        , 1.        , 0.        ,\n",
              "        0.56666667],\n",
              "       [0.05660377, 0.22222222, 0.31372549, 0.13846154, 0.75      ,\n",
              "        0.66666667],\n",
              "       [0.35849057, 0.22222222, 0.41176471, 0.05384615, 0.        ,\n",
              "        0.66666667],\n",
              "       [0.16981132, 0.55555556, 0.60784314, 0.07692308, 0.        ,\n",
              "        0.33333333],\n",
              "       [0.16981132, 0.55555556, 0.60784314, 0.07692308, 0.        ,\n",
              "        0.33333333],\n",
              "       [0.56603774, 0.55555556, 0.90196078, 0.38461538, 0.        ,\n",
              "        0.66666667],\n",
              "       [0.37735849, 0.77777778, 1.        , 0.69230769, 0.        ,\n",
              "        0.33333333],\n",
              "       [0.24528302, 0.55555556, 0.80392157, 0.13846154, 0.        ,\n",
              "        0.        ],\n",
              "       [0.41509434, 0.55555556, 0.80392157, 0.03076923, 0.        ,\n",
              "        0.33333333],\n",
              "       [0.1509434 , 0.22222222, 0.21568627, 0.11538462, 0.        ,\n",
              "        0.33333333],\n",
              "       [0.71698113, 0.77777778, 0.80392157, 0.69230769, 0.        ,\n",
              "        1.        ],\n",
              "       [1.        , 0.77777778, 0.80392157, 0.69230769, 0.        ,\n",
              "        1.        ],\n",
              "       [0.47169811, 0.55555556, 0.21568627, 0.00769231, 0.        ,\n",
              "        0.53333333],\n",
              "       [0.60377358, 0.66666667, 0.60784314, 0.92307692, 0.        ,\n",
              "        0.33333333],\n",
              "       [0.94339623, 0.22222222, 0.31372549, 0.07692308, 0.        ,\n",
              "        0.56666667],\n",
              "       [0.35849057, 0.66666667, 0.41176471, 0.13076923, 0.        ,\n",
              "        0.6       ],\n",
              "       [0.22641509, 0.55555556, 0.80392157, 0.13846154, 0.        ,\n",
              "        0.73333333],\n",
              "       [0.09433962, 0.11111111, 0.21568627, 0.07692308, 0.        ,\n",
              "        0.66666667],\n",
              "       [0.18867925, 0.33333333, 0.80392157, 0.08461538, 0.        ,\n",
              "        0.93333333],\n",
              "       [0.75471698, 0.77777778, 0.90196078, 0.84615385, 0.        ,\n",
              "        0.        ],\n",
              "       [0.47169811, 0.77777778, 0.80392157, 0.53846154, 0.        ,\n",
              "        0.33333333],\n",
              "       [0.24528302, 0.33333333, 0.70588235, 0.06923077, 0.        ,\n",
              "        0.2       ],\n",
              "       [0.56603774, 0.55555556, 0.70588235, 0.69230769, 0.        ,\n",
              "        0.        ],\n",
              "       [0.56603774, 1.        , 1.        , 1.        , 0.        ,\n",
              "        0.56666667],\n",
              "       [0.16981132, 0.55555556, 0.60784314, 0.07692308, 0.        ,\n",
              "        0.33333333],\n",
              "       [0.8490566 , 0.77777778, 0.90196078, 1.        , 0.        ,\n",
              "        0.56666667],\n",
              "       [0.24528302, 0.55555556, 0.80392157, 0.05384615, 0.        ,\n",
              "        0.33333333],\n",
              "       [0.33962264, 0.55555556, 0.80392157, 0.06923077, 0.        ,\n",
              "        0.33333333],\n",
              "       [0.28301887, 0.77777778, 1.        , 0.14615385, 0.        ,\n",
              "        0.66666667],\n",
              "       [0.35849057, 0.66666667, 0.41176471, 0.05384615, 0.        ,\n",
              "        0.6       ],\n",
              "       [0.24528302, 0.22222222, 0.21568627, 0.11538462, 0.        ,\n",
              "        0.53333333],\n",
              "       [0.20754717, 0.22222222, 0.21568627, 0.06923077, 0.        ,\n",
              "        0.86666667],\n",
              "       [0.09433962, 0.06666667, 0.        , 0.11538462, 0.        ,\n",
              "        0.56666667],\n",
              "       [0.37735849, 0.55555556, 0.60784314, 0.14615385, 0.75      ,\n",
              "        0.53333333],\n",
              "       [0.47169811, 0.77777778, 1.        , 0.11538462, 0.        ,\n",
              "        0.2       ],\n",
              "       [0.28301887, 0.77777778, 1.        , 0.07769231, 0.        ,\n",
              "        0.66666667],\n",
              "       [0.0754717 , 0.22222222, 0.31372549, 0.07692308, 0.75      ,\n",
              "        0.33333333],\n",
              "       [0.20754717, 0.22222222, 0.31372549, 0.06923077, 0.        ,\n",
              "        0.53333333],\n",
              "       [0.54716981, 0.22222222, 0.41176471, 0.23076923, 0.        ,\n",
              "        0.66666667],\n",
              "       [0.09433962, 0.55555556, 0.60784314, 0.07692308, 0.        ,\n",
              "        0.33333333],\n",
              "       [0.24528302, 0.33333333, 0.70588235, 0.08461538, 0.        ,\n",
              "        0.2       ],\n",
              "       [0.37735849, 0.77777778, 1.        , 0.69230769, 0.        ,\n",
              "        0.33333333],\n",
              "       [0.47169811, 0.33333333, 0.41176471, 0.00769231, 0.        ,\n",
              "        0.2       ],\n",
              "       [0.83018868, 0.77777778, 1.        , 0.69230769, 0.        ,\n",
              "        0.2       ],\n",
              "       [0.28301887, 0.77777778, 1.        , 0.06153846, 0.        ,\n",
              "        0.66666667],\n",
              "       [0.52830189, 0.72222222, 0.21568627, 0.14615385, 0.75      ,\n",
              "        0.86666667],\n",
              "       [0.13207547, 0.22222222, 0.2745098 , 0.06923077, 0.75      ,\n",
              "        0.33333333],\n",
              "       [0.09433962, 0.33333333, 0.31372549, 0.05384615, 0.        ,\n",
              "        0.53333333],\n",
              "       [0.03773585, 0.27777778, 0.21568627, 0.09230769, 0.        ,\n",
              "        0.56666667],\n",
              "       [0.60377358, 0.55555556, 0.60784314, 0.11538462, 0.        ,\n",
              "        0.33333333],\n",
              "       [0.75471698, 0.77777778, 0.80392157, 0.69230769, 0.        ,\n",
              "        1.        ],\n",
              "       [0.16981132, 0.55555556, 0.70588235, 0.07692308, 0.        ,\n",
              "        0.        ],\n",
              "       [0.22641509, 0.16666667, 0.21568627, 0.06923077, 0.        ,\n",
              "        0.53333333],\n",
              "       [0.03773585, 0.27777778, 0.21568627, 0.06923077, 0.        ,\n",
              "        0.16666667],\n",
              "       [0.60377358, 0.77777778, 1.        , 0.92307692, 0.        ,\n",
              "        1.        ],\n",
              "       [0.83018868, 0.66666667, 0.41176471, 0.46153846, 0.        ,\n",
              "        0.23333333],\n",
              "       [0.28301887, 0.44444444, 0.78431373, 0.07769231, 0.        ,\n",
              "        0.56666667],\n",
              "       [0.22641509, 0.22222222, 0.21568627, 0.11538462, 1.        ,\n",
              "        0.        ],\n",
              "       [0.13207547, 0.22222222, 0.21568627, 0.06923077, 0.75      ,\n",
              "        0.53333333],\n",
              "       [0.20754717, 0.55555556, 0.60784314, 0.11538462, 0.        ,\n",
              "        0.53333333],\n",
              "       [0.22641509, 0.33333333, 0.31372549, 0.09230769, 0.        ,\n",
              "        0.33333333],\n",
              "       [0.39622642, 0.55555556, 0.21568627, 0.00769231, 0.        ,\n",
              "        0.53333333],\n",
              "       [0.13207547, 0.55555556, 0.60784314, 0.05384615, 1.        ,\n",
              "        0.53333333],\n",
              "       [0.24528302, 0.55555556, 0.80392157, 0.00769231, 0.        ,\n",
              "        0.        ],\n",
              "       [0.37735849, 0.55555556, 0.60784314, 0.06923077, 0.75      ,\n",
              "        0.53333333],\n",
              "       [0.03773585, 0.27777778, 0.21568627, 0.00769231, 1.        ,\n",
              "        0.        ],\n",
              "       [0.75471698, 0.66666667, 1.        , 0.76923077, 0.        ,\n",
              "        0.5       ],\n",
              "       [0.24528302, 0.77777778, 0.80392157, 0.06153846, 0.        ,\n",
              "        0.33333333],\n",
              "       [0.83018868, 0.77777778, 1.        , 0.69230769, 0.        ,\n",
              "        0.2       ],\n",
              "       [0.22641509, 0.33333333, 0.31372549, 0.07692308, 0.        ,\n",
              "        0.66666667],\n",
              "       [0.24528302, 0.77777778, 0.60784314, 0.07769231, 0.        ,\n",
              "        0.33333333],\n",
              "       [0.20754717, 0.22222222, 0.31372549, 0.11538462, 0.        ,\n",
              "        0.53333333],\n",
              "       [0.1509434 , 0.22222222, 0.21568627, 0.06923077, 0.        ,\n",
              "        0.33333333],\n",
              "       [0.60377358, 0.55555556, 0.60784314, 0.03076923, 0.        ,\n",
              "        0.33333333],\n",
              "       [0.11320755, 0.22222222, 0.31372549, 0.06923077, 0.        ,\n",
              "        0.53333333],\n",
              "       [0.73584906, 0.77777778, 0.80392157, 0.69230769, 0.        ,\n",
              "        1.        ],\n",
              "       [0.37735849, 0.77777778, 0.70588235, 0.07692308, 0.        ,\n",
              "        0.33333333],\n",
              "       [0.64150943, 0.55555556, 0.80392157, 0.76923077, 0.        ,\n",
              "        0.66666667],\n",
              "       [0.47169811, 0.77777778, 1.        , 0.11538462, 0.        ,\n",
              "        0.2       ],\n",
              "       [0.09433962, 0.55555556, 0.60784314, 0.07769231, 0.        ,\n",
              "        0.33333333],\n",
              "       [0.22641509, 0.55555556, 0.80392157, 0.08461538, 0.        ,\n",
              "        0.73333333],\n",
              "       [0.43396226, 0.5       , 0.31372549, 0.07692308, 0.        ,\n",
              "        0.33333333],\n",
              "       [0.71698113, 0.55555556, 0.60784314, 0.38461538, 0.        ,\n",
              "        0.93333333],\n",
              "       [0.8490566 , 0.77777778, 0.90196078, 1.        , 0.        ,\n",
              "        0.56666667],\n",
              "       [0.75471698, 0.77777778, 0.60784314, 0.05384615, 0.        ,\n",
              "        0.33333333],\n",
              "       [0.16981132, 0.55555556, 0.50980392, 0.06923077, 0.        ,\n",
              "        0.2       ],\n",
              "       [0.45283019, 0.16666667, 0.21568627, 0.38461538, 1.        ,\n",
              "        0.86666667],\n",
              "       [0.41509434, 0.77777778, 1.        , 0.06923077, 0.        ,\n",
              "        0.6       ],\n",
              "       [0.28301887, 0.22222222, 0.41176471, 0.00769231, 0.        ,\n",
              "        0.66666667],\n",
              "       [0.24528302, 0.66666667, 0.41176471, 0.07769231, 0.        ,\n",
              "        0.6       ],\n",
              "       [0.66037736, 0.55555556, 0.90196078, 0.00769231, 0.        ,\n",
              "        0.2       ],\n",
              "       [0.75471698, 0.77777778, 0.80392157, 0.69230769, 0.        ,\n",
              "        1.        ],\n",
              "       [0.41509434, 0.77777778, 1.        , 0.14615385, 0.        ,\n",
              "        0.6       ]])"
            ]
          },
          "metadata": {},
          "execution_count": 17
        }
      ]
    },
    {
      "cell_type": "code",
      "source": [
        "x_test"
      ],
      "metadata": {
        "id": "Dm5wpTul4rpt",
        "colab": {
          "base_uri": "https://localhost:8080/"
        },
        "outputId": "c8d9f5e7-a87a-4029-9450-35fe6a88cb66"
      },
      "execution_count": null,
      "outputs": [
        {
          "output_type": "execute_result",
          "data": {
            "text/plain": [
              "array([[0.28301887, 0.77777778, 1.        , 0.11538462, 0.        ,\n",
              "        0.66666667],\n",
              "       [0.20754717, 0.05555556, 0.01960784, 0.00769231, 0.        ,\n",
              "        0.33333333],\n",
              "       [0.28301887, 0.77777778, 1.        , 0.06153846, 0.        ,\n",
              "        0.66666667],\n",
              "       [0.71698113, 0.55555556, 0.60784314, 0.38461538, 0.        ,\n",
              "        0.93333333],\n",
              "       [0.47169811, 0.16666667, 0.21568627, 0.38461538, 1.        ,\n",
              "        0.86666667],\n",
              "       [0.13207547, 0.16666667, 0.21568627, 0.23076923, 1.        ,\n",
              "        0.86666667],\n",
              "       [0.41509434, 0.55555556, 0.80392157, 0.06923077, 0.        ,\n",
              "        0.33333333],\n",
              "       [0.        , 0.        , 0.01960784, 0.06923077, 0.        ,\n",
              "        0.33333333],\n",
              "       [0.22641509, 0.55555556, 0.70588235, 0.00769231, 0.        ,\n",
              "        0.93333333],\n",
              "       [0.73584906, 0.55555556, 0.80392157, 0.09230769, 0.        ,\n",
              "        0.56666667],\n",
              "       [0.11320755, 0.33333333, 0.41176471, 0.09230769, 0.        ,\n",
              "        0.66666667],\n",
              "       [0.75471698, 0.55555556, 0.60784314, 0.13846154, 0.        ,\n",
              "        0.33333333],\n",
              "       [0.1509434 , 0.55555556, 0.60784314, 0.06923077, 1.        ,\n",
              "        0.53333333],\n",
              "       [0.94339623, 0.55555556, 0.60784314, 0.00769231, 0.        ,\n",
              "        0.5       ],\n",
              "       [0.8490566 , 0.33333333, 0.31372549, 0.00769231, 0.        ,\n",
              "        0.2       ],\n",
              "       [0.18867925, 0.55555556, 0.50980392, 0.07769231, 0.5       ,\n",
              "        0.33333333],\n",
              "       [0.71698113, 0.55555556, 0.60784314, 0.38461538, 0.        ,\n",
              "        0.93333333],\n",
              "       [0.41509434, 0.55555556, 0.80392157, 0.11538462, 0.        ,\n",
              "        0.33333333],\n",
              "       [0.16981132, 0.55555556, 0.50980392, 0.09230769, 0.        ,\n",
              "        0.2       ],\n",
              "       [0.20754717, 0.55555556, 0.60784314, 0.08461538, 0.        ,\n",
              "        0.56666667],\n",
              "       [0.8490566 , 0.55555556, 0.80392157, 0.06153846, 0.        ,\n",
              "        0.2       ],\n",
              "       [0.35849057, 0.22222222, 0.41176471, 0.15384615, 0.5       ,\n",
              "        0.66666667],\n",
              "       [0.41509434, 0.55555556, 0.31372549, 0.        , 0.75      ,\n",
              "        0.53333333],\n",
              "       [0.28301887, 0.55555556, 0.80392157, 0.05384615, 0.75      ,\n",
              "        0.66666667],\n",
              "       [0.94339623, 0.55555556, 0.70588235, 0.69230769, 0.        ,\n",
              "        0.        ],\n",
              "       [0.24528302, 0.66666667, 0.41176471, 0.06923077, 0.        ,\n",
              "        0.33333333],\n",
              "       [0.24528302, 0.55555556, 0.80392157, 0.00769231, 0.        ,\n",
              "        0.33333333],\n",
              "       [0.24528302, 0.22222222, 0.21568627, 0.07769231, 0.        ,\n",
              "        0.53333333],\n",
              "       [0.30188679, 0.16666667, 0.21568627, 0.        , 0.75      ,\n",
              "        0.86666667],\n",
              "       [0.8490566 , 0.77777778, 1.        , 0.92307692, 0.        ,\n",
              "        1.        ],\n",
              "       [0.35849057, 0.66666667, 0.41176471, 0.13846154, 0.        ,\n",
              "        0.6       ],\n",
              "       [0.41509434, 0.77777778, 0.80392157, 0.92307692, 0.        ,\n",
              "        0.93333333],\n",
              "       [0.11320755, 0.33333333, 0.41176471, 0.06923077, 0.        ,\n",
              "        0.66666667],\n",
              "       [0.41509434, 0.77777778, 0.80392157, 0.92307692, 0.        ,\n",
              "        0.93333333],\n",
              "       [0.09433962, 0.11111111, 0.21568627, 0.05384615, 0.        ,\n",
              "        0.66666667],\n",
              "       [0.03773585, 0.27777778, 0.21568627, 0.05384615, 0.        ,\n",
              "        0.56666667],\n",
              "       [0.28301887, 0.55555556, 0.60784314, 0.07692308, 0.        ,\n",
              "        0.2       ],\n",
              "       [0.20754717, 0.55555556, 0.60784314, 0.06923077, 0.        ,\n",
              "        0.53333333],\n",
              "       [0.24528302, 0.22222222, 0.21568627, 0.03076923, 0.        ,\n",
              "        0.53333333],\n",
              "       [0.09433962, 0.06666667, 0.        , 0.03076923, 0.        ,\n",
              "        0.56666667],\n",
              "       [0.33962264, 0.22222222, 0.21568627, 0.09230769, 0.        ,\n",
              "        0.73333333],\n",
              "       [0.16981132, 0.55555556, 0.70588235, 0.13846154, 0.        ,\n",
              "        0.        ],\n",
              "       [0.47169811, 0.33333333, 0.41176471, 0.07692308, 0.        ,\n",
              "        0.        ],\n",
              "       [0.28301887, 0.66666667, 0.60784314, 0.69230769, 0.        ,\n",
              "        0.86666667],\n",
              "       [0.28301887, 0.55555556, 0.60784314, 0.06153846, 0.        ,\n",
              "        0.2       ]])"
            ]
          },
          "metadata": {},
          "execution_count": 18
        }
      ]
    },
    {
      "cell_type": "code",
      "source": [
        "y_train"
      ],
      "metadata": {
        "id": "_uOU08io4uxQ",
        "colab": {
          "base_uri": "https://localhost:8080/"
        },
        "outputId": "410dcd6a-fc64-4651-948b-b747d8bc2a75"
      },
      "execution_count": null,
      "outputs": [
        {
          "output_type": "execute_result",
          "data": {
            "text/plain": [
              "43     0\n",
              "60     0\n",
              "128    2\n",
              "99     1\n",
              "77     1\n",
              "      ..\n",
              "42     0\n",
              "6      1\n",
              "38     0\n",
              "106    2\n",
              "109    2\n",
              "Name: RiskLevel, Length: 104, dtype: int64"
            ]
          },
          "metadata": {},
          "execution_count": 19
        }
      ]
    },
    {
      "cell_type": "code",
      "source": [
        "y_test"
      ],
      "metadata": {
        "id": "DQYF6s2g409I",
        "colab": {
          "base_uri": "https://localhost:8080/"
        },
        "outputId": "4f495d3d-238d-48db-e786-705b1f18687a"
      },
      "execution_count": null,
      "outputs": [
        {
          "output_type": "execute_result",
          "data": {
            "text/plain": [
              "122    2\n",
              "34     0\n",
              "103    2\n",
              "129    2\n",
              "7      2\n",
              "66     1\n",
              "8      1\n",
              "19     0\n",
              "40     0\n",
              "28     0\n",
              "25     0\n",
              "95     1\n",
              "139    1\n",
              "36     0\n",
              "37     0\n",
              "13     1\n",
              "120    2\n",
              "45     0\n",
              "26     0\n",
              "33     0\n",
              "100    1\n",
              "2      2\n",
              "69     1\n",
              "143    1\n",
              "91     1\n",
              "75     1\n",
              "44     0\n",
              "10     0\n",
              "70     1\n",
              "117    2\n",
              "96     1\n",
              "124    2\n",
              "87     1\n",
              "131    2\n",
              "146    0\n",
              "148    0\n",
              "50     0\n",
              "86     1\n",
              "58     0\n",
              "59     0\n",
              "29     0\n",
              "98     1\n",
              "52     0\n",
              "0      2\n",
              "101    1\n",
              "Name: RiskLevel, dtype: int64"
            ]
          },
          "metadata": {},
          "execution_count": 20
        }
      ]
    },
    {
      "cell_type": "code",
      "source": [
        "import numpy as np\n",
        "import pandas as pd\n",
        "from sklearn.model_selection import train_test_split\n",
        "from sklearn.svm import SVC\n",
        "a=pd.read_csv('/content/data set statml.csv')\n",
        "x_train,x_test,y_train,y_test=train_test_split(x,y,test_size=0.3)\n",
        "model=SVC(kernel='linear')\n",
        "model.fit(x_train,y_train)\n",
        "y_pred=model.predict(x_test)"
      ],
      "metadata": {
        "id": "tDy30xQ75dKs"
      },
      "execution_count": null,
      "outputs": []
    },
    {
      "cell_type": "code",
      "source": [
        "from sklearn.metrics import accuracy_score\n",
        "print(\"accuracy\",accuracy_score(y_test,y_pred))"
      ],
      "metadata": {
        "colab": {
          "base_uri": "https://localhost:8080/"
        },
        "id": "OE1HhimFA-vi",
        "outputId": "9d303844-40e7-49fa-a08e-d10ae11b4de4"
      },
      "execution_count": null,
      "outputs": [
        {
          "output_type": "stream",
          "name": "stdout",
          "text": [
            "accuracy 0.5777777777777777\n"
          ]
        }
      ]
    },
    {
      "cell_type": "code",
      "source": [
        "from sklearn.metrics import classification_report\n",
        "print(classification_report(y_test,y_pred))"
      ],
      "metadata": {
        "colab": {
          "base_uri": "https://localhost:8080/"
        },
        "id": "Cp_DaPZoBW8N",
        "outputId": "c3030028-5347-45f2-8dec-6056ccfb41d7"
      },
      "execution_count": null,
      "outputs": [
        {
          "output_type": "stream",
          "name": "stdout",
          "text": [
            "              precision    recall  f1-score   support\n",
            "\n",
            "           0       0.86      0.60      0.71        20\n",
            "           1       0.18      0.38      0.24         8\n",
            "           2       0.79      0.65      0.71        17\n",
            "\n",
            "    accuracy                           0.58        45\n",
            "   macro avg       0.61      0.54      0.55        45\n",
            "weighted avg       0.71      0.58      0.62        45\n",
            "\n"
          ]
        }
      ]
    },
    {
      "cell_type": "code",
      "source": [
        "import numpy as np\n",
        "from sklearn.model_selection import train_test_split\n",
        "from sklearn.svm import SVC\n",
        "x_train,x_test,y_train,y_test=train_test_split(x,y,test_size=0.3)\n",
        "model=SVC(kernel='linear')\n",
        "model.fit(x_train,y_train)\n",
        "y_pred=model.predict(x_test)"
      ],
      "metadata": {
        "id": "PIyQhdKRBrDS"
      },
      "execution_count": null,
      "outputs": []
    },
    {
      "cell_type": "code",
      "source": [
        "from sklearn.metrics import classification_report\n",
        "print(classification_report(y_test,y_pred))"
      ],
      "metadata": {
        "colab": {
          "base_uri": "https://localhost:8080/"
        },
        "id": "Z_an5Gj8MuIQ",
        "outputId": "2c76a83f-ca5f-43c8-f760-496b5d897f84"
      },
      "execution_count": null,
      "outputs": [
        {
          "output_type": "stream",
          "name": "stdout",
          "text": [
            "              precision    recall  f1-score   support\n",
            "\n",
            "           0       0.61      0.79      0.69        14\n",
            "           1       0.53      0.53      0.53        17\n",
            "           2       0.90      0.64      0.75        14\n",
            "\n",
            "    accuracy                           0.64        45\n",
            "   macro avg       0.68      0.65      0.66        45\n",
            "weighted avg       0.67      0.64      0.65        45\n",
            "\n"
          ]
        }
      ]
    },
    {
      "cell_type": "code",
      "source": [
        "#Logistic Regression\n",
        "#Importing logistic regression function from scikit learn directly\n",
        "from sklearn.linear_model import LogisticRegression\n",
        "\n",
        "model = LogisticRegression()\n",
        "model.fit(x_train, y_train)\n",
        "y_pred = model.predict(x_test)\n",
        "print(y_pred)\n",
        "# Evaluate the model\n",
        "accuracy_LR = accuracy_score(y_test, y_pred)\n",
        "print(\"Accuracy:\",accuracy_LR)\n"
      ],
      "metadata": {
        "colab": {
          "base_uri": "https://localhost:8080/"
        },
        "id": "xQcFX9wQFNC2",
        "outputId": "8982e9f4-936b-489d-c295-a78c5f07ee2d"
      },
      "execution_count": null,
      "outputs": [
        {
          "output_type": "stream",
          "name": "stdout",
          "text": [
            "[1 1 2 1 0 0 1 2 1 0 2 0 0 2 0 0 2 0 0 2 1 2 1 2 1 0 2 1 1 0 1 1 1 1 0 1 1\n",
            " 1 1 2 2 0 1 2 0]\n",
            "Accuracy: 0.6444444444444445\n"
          ]
        },
        {
          "output_type": "stream",
          "name": "stderr",
          "text": [
            "/usr/local/lib/python3.10/dist-packages/sklearn/linear_model/_logistic.py:458: ConvergenceWarning: lbfgs failed to converge (status=1):\n",
            "STOP: TOTAL NO. of ITERATIONS REACHED LIMIT.\n",
            "\n",
            "Increase the number of iterations (max_iter) or scale the data as shown in:\n",
            "    https://scikit-learn.org/stable/modules/preprocessing.html\n",
            "Please also refer to the documentation for alternative solver options:\n",
            "    https://scikit-learn.org/stable/modules/linear_model.html#logistic-regression\n",
            "  n_iter_i = _check_optimize_result(\n"
          ]
        }
      ]
    },
    {
      "cell_type": "code",
      "source": [
        "#svm"
      ],
      "metadata": {
        "id": "WVuPP_Ia---e"
      },
      "execution_count": null,
      "outputs": []
    },
    {
      "cell_type": "code",
      "source": [
        "from sklearn.svm import SVC\n",
        "from sklearn.model_selection import train_test_split\n",
        "from sklearn.metrics import accuracy_score, mean_squared_error\n",
        "import numpy as np\n",
        "\n",
        "# Assuming you have already defined and split your data (x_train, x_test, y_train, y_test)\n",
        "\n",
        "svm_model = SVC(kernel='linear')\n",
        "svm_model.fit(x_train, y_train)\n",
        "\n",
        "n_bootstrap_samples = 100  # Number of bootstrap samples\n",
        "svm_predictions = []\n",
        "\n",
        "for _ in range(n_bootstrap_samples):\n",
        "    # Create a bootstrap sample by resampling with replacement\n",
        "    indices = np.random.choice(len(x_test), len(x_test), replace=True)\n",
        "    x_bootstrap = x_test.iloc[indices]\n",
        "\n",
        "    # Predict using the SVM model\n",
        "    svm_bootstrap_predictions = svm_model.predict(x_bootstrap)\n",
        "    svm_predictions.append(svm_bootstrap_predictions)\n",
        "\n",
        "# Convert the list of predictions to a NumPy array for easier manipulation\n",
        "svm_predictions = np.array(svm_predictions)\n",
        "\n",
        "# Calculate the accuracy for each bootstrap sample\n",
        "accuracies = [accuracy_score(y_test, predictions) for predictions in svm_predictions]\n",
        "\n",
        "# Calculate the mean squared error for each bootstrap sample\n",
        "mean_squared_errors = [mean_squared_error(y_test, predictions) for predictions in svm_predictions]\n",
        "\n",
        "# Calculate the overall mean accuracy and mean squared error\n",
        "mean_accuracy = np.mean(accuracies)\n",
        "mean_squared_error_value = np.mean(mean_squared_errors)\n",
        "\n",
        "print(f\"Mean Accuracy: {mean_accuracy:.3f}\")\n",
        "\n",
        "print(f\"Mean Squared Error: {mean_squared_error_value:.3f}\")\n"
      ],
      "metadata": {
        "colab": {
          "base_uri": "https://localhost:8080/"
        },
        "id": "W6EDU2aPis1g",
        "outputId": "fad22abe-8b13-447e-a42d-0d4ad5a08345"
      },
      "execution_count": null,
      "outputs": [
        {
          "output_type": "stream",
          "name": "stdout",
          "text": [
            "Mean Accuracy: 0.329\n",
            "Mean Squared Error: 1.249\n"
          ]
        }
      ]
    },
    {
      "cell_type": "code",
      "source": [
        "from sklearn.linear_model import Perceptron\n",
        "from sklearn.model_selection import train_test_split\n",
        "from sklearn.metrics import accuracy_score, mean_squared_error\n",
        "import numpy as np\n",
        "\n",
        "# Split the data into training and testing sets\n",
        "x_train, x_test, y_train, y_test = train_test_split(x, y, test_size=0.3, random_state=42)\n",
        "\n",
        "n_bootstrap_samples = 100  # Number of bootstrap samples\n",
        "perceptron_accuracies = []\n",
        "perceptron_mse_values = []\n",
        "\n",
        "for _ in range(n_bootstrap_samples):\n",
        "    # Create a bootstrap sample by resampling with replacement\n",
        "    indices = np.random.choice(len(x_train), len(x_train), replace=True)\n",
        "    x_bootstrap = x_train.iloc[indices]  # Use .iloc to access rows by integer index\n",
        "    y_bootstrap = y_train.iloc[indices]\n",
        "\n",
        "    # Create and fit the Perceptron classifier on the bootstrap sample\n",
        "    perceptron_model = Perceptron(max_iter=1000)\n",
        "    perceptron_model.fit(x_bootstrap, y_bootstrap)\n",
        "\n",
        "    # Make predictions and calculate accuracy\n",
        "    perceptron_predictions = perceptron_model.predict(x_test)\n",
        "    accuracy = accuracy_score(y_test, perceptron_predictions)\n",
        "    perceptron_accuracies.append(accuracy)\n",
        "\n",
        "    # Calculate mean squared error\n",
        "    mse = mean_squared_error(y_test, perceptron_predictions)\n",
        "    perceptron_mse_values.append(mse)\n",
        "\n",
        "# Calculate the mean accuracy and mean squared error using bootstrapping\n",
        "mean_perceptron_accuracy = np.mean(perceptron_accuracies)\n",
        "mean_perceptron_mse = np.mean(perceptron_mse_values)\n",
        "\n",
        "print(\"Perceptron Learning:\")\n",
        "print(f\"Mean Accuracy: {mean_perceptron_accuracy:.3f}\")\n",
        "print(f\"Mean Squared Error: {mean_perceptron_mse:.3f}\")\n",
        "\n"
      ],
      "metadata": {
        "id": "Nz_uFARBNzfB",
        "colab": {
          "base_uri": "https://localhost:8080/"
        },
        "outputId": "89b87e1f-953d-4233-8498-626c432bd06e"
      },
      "execution_count": null,
      "outputs": [
        {
          "output_type": "stream",
          "name": "stdout",
          "text": [
            "Perceptron Learning:\n",
            "Mean Accuracy: 0.462\n",
            "Mean Squared Error: 0.912\n"
          ]
        }
      ]
    },
    {
      "cell_type": "code",
      "source": [
        "from sklearn.metrics import confusion_matrix\n",
        "\n",
        "cm = confusion_matrix(y_test, y_pred)\n",
        "print (\"Confusion Matrix : \\n\", cm)\n",
        "\n",
        "from sklearn.metrics import confusion_matrix, accuracy_score, precision_score, recall_score, f1_score\n",
        "\n",
        "accuracy = accuracy_score(y_test, y_pred)\n",
        "print(\"Accuracy:\", accuracy)\n",
        "\n",
        "# Calculate and print precision\n",
        "precision = precision_score(y_test, y_pred, average='weighted',zero_division=0)\n",
        "print(\"Precision:\", precision)\n",
        "\n",
        "# Calculate and print recall\n",
        "recall = recall_score(y_test, y_pred, average='weighted')\n",
        "print(\"Recall:\", recall)\n",
        "\n",
        "# Calculate and print F1-score\n",
        "f1 = f1_score(y_test, y_pred, average='weighted')\n",
        "print(\"F1-score:\", f1)"
      ],
      "metadata": {
        "colab": {
          "base_uri": "https://localhost:8080/"
        },
        "id": "fboUnvRKoDOo",
        "outputId": "9a6351fe-cbc3-41a3-cef0-5d71214b64b5"
      },
      "execution_count": null,
      "outputs": [
        {
          "output_type": "stream",
          "name": "stdout",
          "text": [
            "Confusion Matrix : \n",
            " [[5 7 6]\n",
            " [4 6 4]\n",
            " [5 6 2]]\n",
            "Accuracy: 0.28888888888888886\n",
            "Precision: 0.2892509050403787\n",
            "Recall: 0.28888888888888886\n",
            "F1-score: 0.28435353535353536\n"
          ]
        }
      ]
    },
    {
      "cell_type": "code",
      "source": [
        "import numpy as np\n",
        "from sklearn.model_selection import train_test_split\n",
        "from sklearn.svm import SVC\n",
        "x_train,x_test,y_train,y_test=train_test_split(x,y,test_size=0.3)\n",
        "model=SVC(kernel='linear')\n",
        "model.fit(x_train,y_train)\n",
        "y_pred=model.predict(x_test)"
      ],
      "metadata": {
        "id": "eSeGmEmv1PDU"
      },
      "execution_count": null,
      "outputs": []
    },
    {
      "cell_type": "code",
      "source": [
        "from sklearn.metrics import accuracy_score\n",
        "print(accuracy_score(y_test,y_pred))"
      ],
      "metadata": {
        "colab": {
          "base_uri": "https://localhost:8080/"
        },
        "id": "u6t0Hzvv9VyN",
        "outputId": "02864f1f-9bef-4e94-8920-82d95dfbd58c"
      },
      "execution_count": null,
      "outputs": [
        {
          "output_type": "stream",
          "name": "stdout",
          "text": [
            "0.4666666666666667\n"
          ]
        }
      ]
    },
    {
      "cell_type": "code",
      "source": [
        "from sklearn.metrics import classification_report\n",
        "print(classification_report(y_test,y_pred))"
      ],
      "metadata": {
        "colab": {
          "base_uri": "https://localhost:8080/"
        },
        "id": "T5w8tc4r9coh",
        "outputId": "a7878d78-5137-480d-dffb-ece4542739b1"
      },
      "execution_count": null,
      "outputs": [
        {
          "output_type": "stream",
          "name": "stdout",
          "text": [
            "              precision    recall  f1-score   support\n",
            "\n",
            "           0       0.38      1.00      0.55        11\n",
            "           1       0.33      0.16      0.21        19\n",
            "           2       1.00      0.47      0.64        15\n",
            "\n",
            "    accuracy                           0.47        45\n",
            "   macro avg       0.57      0.54      0.47        45\n",
            "weighted avg       0.57      0.47      0.44        45\n",
            "\n"
          ]
        }
      ]
    },
    {
      "cell_type": "code",
      "source": [
        "from sklearn import svm\n",
        "svm_model = svm.SVC(kernel='linear')\n",
        "svm_model.fit(x_train, y_train)\n",
        "y_pred = svm_model.predict(x_test)\n",
        "accuracy = accuracy_score(y_test, y_pred)\n",
        "print(\"Accuracy:\", accuracy)"
      ],
      "metadata": {
        "colab": {
          "base_uri": "https://localhost:8080/"
        },
        "id": "gBnbMyQB9jcK",
        "outputId": "4e7ceb48-41b3-4651-a8b9-05c79f3b7c70"
      },
      "execution_count": null,
      "outputs": [
        {
          "output_type": "stream",
          "name": "stdout",
          "text": [
            "Accuracy: 0.4666666666666667\n"
          ]
        }
      ]
    },
    {
      "cell_type": "code",
      "source": [
        "from sklearn.linear_model import Perceptron\n",
        "perceptron_model = Perceptron()\n",
        "perceptron_model.fit(x_train, y_train)\n",
        "y_pred = perceptron_model.predict(x_test)\n",
        "accuracy = accuracy_score(y_test, y_pred)\n",
        "print(\"Accuracy:\", accuracy)"
      ],
      "metadata": {
        "colab": {
          "base_uri": "https://localhost:8080/"
        },
        "id": "JqRCVkbu9nyQ",
        "outputId": "501164ad-f266-43cd-b6f0-12aa0a816d16"
      },
      "execution_count": null,
      "outputs": [
        {
          "output_type": "stream",
          "name": "stdout",
          "text": [
            "Accuracy: 0.6444444444444445\n"
          ]
        }
      ]
    },
    {
      "cell_type": "code",
      "source": [
        "from sklearn.neighbors import KNeighborsClassifier\n",
        "from sklearn.model_selection import train_test_split\n",
        "from sklearn.metrics import mean_squared_error\n",
        "import numpy as np\n",
        "\n",
        "# Split the data into training and testing sets\n",
        "x_train, x_test, y_train, y_test = train_test_split(x, y, test_size=0.3, random_state=42)\n",
        "\n",
        "k_values = list(range(2, 50))\n",
        "n_bootstrap_samples = 100  # Number of bootstrap samples\n",
        "accuracies = []\n",
        "mean_squared_errors = []\n",
        "\n",
        "for k in k_values:\n",
        "    knn = KNeighborsClassifier(n_neighbors=k)\n",
        "    accuracy_samples = []\n",
        "    mse_samples = []\n",
        "\n",
        "    for _ in range(n_bootstrap_samples):\n",
        "        # Create a bootstrap sample by resampling with replacement\n",
        "        indices = np.random.choice(len(x_train), len(x_train), replace=True)\n",
        "        x_bootstrap = x_train.iloc[indices]  # Use .iloc to access rows by integer index\n",
        "        y_bootstrap = y_train.iloc[indices]\n",
        "\n",
        "        # Fit the KNN classifier on the bootstrap sample and calculate accuracy\n",
        "        knn.fit(x_bootstrap, y_bootstrap)\n",
        "        accuracy = knn.score(x_test, y_test)\n",
        "        accuracy_samples.append(accuracy)\n",
        "\n",
        "        # Calculate mean squared error\n",
        "        y_pred = knn.predict(x_test)\n",
        "        mse = mean_squared_error(y_test, y_pred)\n",
        "        mse_samples.append(mse)\n",
        "\n",
        "    # Calculate the mean accuracy and mean squared error for the current k value using bootstrapping\n",
        "    mean_accuracy = np.mean(accuracy_samples)\n",
        "    accuracies.append(mean_accuracy)\n",
        "\n",
        "    mean_mse = np.mean(mse_samples)\n",
        "    mean_squared_errors.append(mean_mse)\n",
        "\n",
        "    print(f\"k={k}, Mean Accuracy: {mean_accuracy:.4f}, Mean Squared Error: {mean_mse:.4f}\")\n",
        "\n",
        "print(\"Accuracies:\", accuracies)\n",
        "print(\"Mean Squared Errors:\", mean_squared_errors)\n",
        "\n"
      ],
      "metadata": {
        "colab": {
          "base_uri": "https://localhost:8080/"
        },
        "id": "-lZs-bd39vdb",
        "outputId": "f45aa982-b4ba-4b95-b118-bf83e0895ada"
      },
      "execution_count": null,
      "outputs": [
        {
          "output_type": "stream",
          "name": "stdout",
          "text": [
            "k=2, Mean Accuracy: 0.5193, Mean Squared Error: 0.6140\n",
            "k=3, Mean Accuracy: 0.5202, Mean Squared Error: 0.6151\n",
            "k=4, Mean Accuracy: 0.5360, Mean Squared Error: 0.5880\n",
            "k=5, Mean Accuracy: 0.5351, Mean Squared Error: 0.5762\n",
            "k=6, Mean Accuracy: 0.5389, Mean Squared Error: 0.5958\n",
            "k=7, Mean Accuracy: 0.5351, Mean Squared Error: 0.5842\n",
            "k=8, Mean Accuracy: 0.5324, Mean Squared Error: 0.6029\n",
            "k=9, Mean Accuracy: 0.5307, Mean Squared Error: 0.5800\n",
            "k=10, Mean Accuracy: 0.5404, Mean Squared Error: 0.5649\n",
            "k=11, Mean Accuracy: 0.5267, Mean Squared Error: 0.5780\n",
            "k=12, Mean Accuracy: 0.5333, Mean Squared Error: 0.5700\n",
            "k=13, Mean Accuracy: 0.5382, Mean Squared Error: 0.5344\n",
            "k=14, Mean Accuracy: 0.5367, Mean Squared Error: 0.5493\n",
            "k=15, Mean Accuracy: 0.5380, Mean Squared Error: 0.5493\n",
            "k=16, Mean Accuracy: 0.5564, Mean Squared Error: 0.5376\n",
            "k=17, Mean Accuracy: 0.5402, Mean Squared Error: 0.5471\n",
            "k=18, Mean Accuracy: 0.5589, Mean Squared Error: 0.5431\n",
            "k=19, Mean Accuracy: 0.5540, Mean Squared Error: 0.5547\n",
            "k=20, Mean Accuracy: 0.5533, Mean Squared Error: 0.5507\n",
            "k=21, Mean Accuracy: 0.5544, Mean Squared Error: 0.5609\n",
            "k=22, Mean Accuracy: 0.5671, Mean Squared Error: 0.5569\n",
            "k=23, Mean Accuracy: 0.5511, Mean Squared Error: 0.5542\n",
            "k=24, Mean Accuracy: 0.5544, Mean Squared Error: 0.5696\n",
            "k=25, Mean Accuracy: 0.5556, Mean Squared Error: 0.5631\n",
            "k=26, Mean Accuracy: 0.5624, Mean Squared Error: 0.5676\n",
            "k=27, Mean Accuracy: 0.5671, Mean Squared Error: 0.5522\n",
            "k=28, Mean Accuracy: 0.5629, Mean Squared Error: 0.5491\n",
            "k=29, Mean Accuracy: 0.5673, Mean Squared Error: 0.5573\n",
            "k=30, Mean Accuracy: 0.5709, Mean Squared Error: 0.5384\n",
            "k=31, Mean Accuracy: 0.5558, Mean Squared Error: 0.5556\n",
            "k=32, Mean Accuracy: 0.5636, Mean Squared Error: 0.5524\n",
            "k=33, Mean Accuracy: 0.5729, Mean Squared Error: 0.5471\n",
            "k=34, Mean Accuracy: 0.5696, Mean Squared Error: 0.5404\n",
            "k=35, Mean Accuracy: 0.5713, Mean Squared Error: 0.5400\n",
            "k=36, Mean Accuracy: 0.5762, Mean Squared Error: 0.5358\n",
            "k=37, Mean Accuracy: 0.5724, Mean Squared Error: 0.5369\n",
            "k=38, Mean Accuracy: 0.5771, Mean Squared Error: 0.5556\n",
            "k=39, Mean Accuracy: 0.5724, Mean Squared Error: 0.5629\n",
            "k=40, Mean Accuracy: 0.5758, Mean Squared Error: 0.5642\n",
            "k=41, Mean Accuracy: 0.5691, Mean Squared Error: 0.5696\n",
            "k=42, Mean Accuracy: 0.5596, Mean Squared Error: 0.5824\n",
            "k=43, Mean Accuracy: 0.5651, Mean Squared Error: 0.5862\n",
            "k=44, Mean Accuracy: 0.5567, Mean Squared Error: 0.5847\n",
            "k=45, Mean Accuracy: 0.5700, Mean Squared Error: 0.5933\n",
            "k=46, Mean Accuracy: 0.5593, Mean Squared Error: 0.6073\n",
            "k=47, Mean Accuracy: 0.5536, Mean Squared Error: 0.6298\n",
            "k=48, Mean Accuracy: 0.5560, Mean Squared Error: 0.6047\n",
            "k=49, Mean Accuracy: 0.5678, Mean Squared Error: 0.6009\n",
            "Accuracies: [0.5193333333333333, 0.5202222222222223, 0.5359999999999999, 0.5351111111111111, 0.5388888888888889, 0.5351111111111111, 0.5324444444444445, 0.5306666666666665, 0.5404444444444444, 0.5266666666666666, 0.5333333333333333, 0.5382222222222222, 0.5366666666666666, 0.538, 0.5564444444444444, 0.5402222222222222, 0.5588888888888888, 0.5539999999999999, 0.5533333333333332, 0.5544444444444444, 0.5671111111111111, 0.551111111111111, 0.5544444444444444, 0.5555555555555556, 0.5624444444444444, 0.5671111111111111, 0.5628888888888889, 0.5673333333333332, 0.5708888888888889, 0.5557777777777777, 0.5635555555555556, 0.5728888888888888, 0.5695555555555555, 0.5713333333333334, 0.5762222222222221, 0.5724444444444443, 0.5771111111111111, 0.5724444444444444, 0.5757777777777777, 0.569111111111111, 0.5595555555555555, 0.565111111111111, 0.5566666666666665, 0.57, 0.5593333333333333, 0.5535555555555555, 0.5559999999999999, 0.5677777777777778]\n",
            "Mean Squared Errors: [0.6139999999999999, 0.615111111111111, 0.588, 0.5762222222222223, 0.5957777777777777, 0.5842222222222221, 0.6028888888888889, 0.58, 0.5648888888888888, 0.578, 0.57, 0.5344444444444444, 0.5493333333333332, 0.5493333333333333, 0.5375555555555556, 0.547111111111111, 0.5431111111111111, 0.5546666666666666, 0.5506666666666665, 0.5608888888888889, 0.5568888888888889, 0.5542222222222222, 0.5695555555555556, 0.5631111111111111, 0.5675555555555555, 0.5522222222222222, 0.5491111111111111, 0.5573333333333332, 0.5384444444444444, 0.5555555555555555, 0.5524444444444444, 0.5471111111111111, 0.5404444444444445, 0.5399999999999999, 0.5357777777777778, 0.5368888888888889, 0.5555555555555555, 0.5628888888888889, 0.5642222222222223, 0.5695555555555555, 0.5824444444444443, 0.5862222222222223, 0.5846666666666667, 0.5933333333333333, 0.6073333333333333, 0.6297777777777778, 0.6046666666666666, 0.6008888888888888]\n"
          ]
        }
      ]
    },
    {
      "cell_type": "code",
      "source": [
        "import matplotlib.pyplot as plt"
      ],
      "metadata": {
        "id": "8lq_u8fh-xLF"
      },
      "execution_count": null,
      "outputs": []
    },
    {
      "cell_type": "code",
      "source": [
        "plt.plot(k_values, accuracies, marker='o', linestyle='-')\n",
        "plt.title('Accuracy vs. K Value for KNN')\n",
        "plt.xlabel('K Value')\n",
        "plt.ylabel('Accuracy')\n",
        "plt.show()"
      ],
      "metadata": {
        "colab": {
          "base_uri": "https://localhost:8080/",
          "height": 472
        },
        "id": "-YhW0xVy90-s",
        "outputId": "fed7b779-5196-4d0b-c2d7-fdbb21580a79"
      },
      "execution_count": null,
      "outputs": [
        {
          "output_type": "display_data",
          "data": {
            "text/plain": [
              "<Figure size 640x480 with 1 Axes>"
            ],
            "image/png": "[encoded data removed]"
          },
          "metadata": {}
        }
      ]
    },
    {
      "cell_type": "code",
      "source": [],
      "metadata": {
        "id": "LPp3Pw8I_V8s"
      },
      "execution_count": null,
      "outputs": []
    }
  ]
}